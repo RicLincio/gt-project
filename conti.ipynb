{
 "cells": [
  {
   "cell_type": "markdown",
   "metadata": {},
   "source": [
    "# Losses\n",
    "#### Zero-Sum Game Losses\n",
    "* Disciminator Loss : $L^{(D)} = \\mathbb{E}_{x \\sim p_{data}(x)}[\\log D(x)] + \\mathbb{E}_{z \\sim p_{z}(z)}[\\log (1-D(G(z)))]$\n",
    "* Generator Loss : $L^{(G)} = - L^{(D)}$\n",
    "\n",
    "#### Heuristic Game Losses\n",
    "In order to speed up the training phase Goodfellow approach is to change the loss of the generator:\n",
    "* Disciminator Loss : $L^{(D)} = \\mathbb{E}_{x \\sim p_{data}(x)}[\\log D(x)] + \\mathbb{E}_{z \\sim p_{z}(z)}[\\log (1-D(G(z)))]$\n",
    "* Generator Loss : $L^{(G)} = \\mathbb{E}_{z \\sim p_{z}(z)}[\\log (D(G(z)))]$\n",
    "\n",
    "#### Maximum-Likelihood Game Losses\n",
    "* Disciminator Loss : $L^{(D)}$ = \n",
    "* Generator Loss : $L^{(G)}$ = "
   ]
  },
  {
   "cell_type": "markdown",
   "metadata": {},
   "source": [
    "# Min-Max Formulation (for the zero-sum game)\n",
    "$$\\min\\limits_{G} \\max\\limits_{C} \\big\\{V(D,G)\\big\\} = \\min\\limits_{G} \\max\\limits_{C} \\Big\\{\\mathbb{E}_{x \\sim p_{data}(x)}[\\log D(x)] + \\mathbb{E}_{z \\sim p_{z}(z)}[\\log (1-D(G(z)))] \\Big\\}$$"
   ]
  },
  {
   "cell_type": "code",
   "execution_count": null,
   "metadata": {},
   "outputs": [],
   "source": []
  }
 ],
 "metadata": {
  "kernelspec": {
   "display_name": "Python 3",
   "language": "python",
   "name": "python3"
  },
  "language_info": {
   "codemirror_mode": {
    "name": "ipython",
    "version": 3
   },
   "file_extension": ".py",
   "mimetype": "text/x-python",
   "name": "python",
   "nbconvert_exporter": "python",
   "pygments_lexer": "ipython3",
   "version": "3.6.4"
  }
 },
 "nbformat": 4,
 "nbformat_minor": 2
}
